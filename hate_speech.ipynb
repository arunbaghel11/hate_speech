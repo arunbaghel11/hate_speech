{
 "cells": [
  {
   "cell_type": "code",
   "execution_count": null,
   "id": "cca69b1e",
   "metadata": {},
   "outputs": [],
   "source": [
    "# --- Cell 1: Libraries and Data Loading ---\n",
    "import pandas as pd\n",
    "import re\n",
    "from sklearn.feature_extraction.text import ENGLISH_STOP_WORDS\n",
    "\n",
    "# Load dataset\n",
    "tweet_df = pd.read_csv('train.csv')\n",
    "\n",
    "# See first rows\n",
    "print(tweet_df.head())\n",
    "print(tweet_df.info())\n",
    "\n",
    "# Print a few raw tweets\n",
    "for i in range(5):\n",
    "    print(tweet_df['tweet'].iloc[i], \"\\n\")\n"
   ]
  },
  {
   "cell_type": "code",
   "execution_count": null,
   "id": "97aa5083",
   "metadata": {},
   "outputs": [],
   "source": [
    "# --- Cell 2: Preprocessing Function ---\n",
    "\n",
    "# Extend sklearn stopwords with some Twitter junk\n",
    "stop_words = set(ENGLISH_STOP_WORDS) | {\"rt\", \"amp\"}\n",
    "\n",
    "# Regex pattern for tokenizing words (letters, numbers, underscore, apostrophe)\n",
    "_token_pat = re.compile(r\"[a-z0-9_']+\")\n",
    "\n",
    "def data_processing(text: str) -> str:\n",
    "    if not isinstance(text, str):\n",
    "        return \"\"\n",
    "\n",
    "    t = text.lower()\n",
    "\n",
    "    # Remove URLs\n",
    "    t = re.sub(r'https?://\\S+|www\\.\\S+', ' ', t)\n",
    "\n",
    "    # Remove @mentions\n",
    "    t = re.sub(r'@\\w+', ' ', t)\n",
    "\n",
    "    # Keep hashtag word (e.g., #happy -> happy)\n",
    "    t = re.sub(r'#(\\w+)', r'\\1', t)\n",
    "\n",
    "    # Replace &amp;\n",
    "    t = t.replace('&amp;', ' and ')\n",
    "\n",
    "    # Remove punctuation/symbols\n",
    "    t = re.sub(r'[^\\w\\s]', ' ', t)\n",
    "\n",
    "    # Collapse spaces\n",
    "    t = re.sub(r'\\s+', ' ', t).strip()\n",
    "\n",
    "    # Tokenize with regex\n",
    "    tokens = _token_pat.findall(t)\n",
    "\n",
    "    # Remove stopwords + very short tokens\n",
    "    tokens = [w for w in tokens if w not in stop_words and len(w) > 2]\n",
    "\n",
    "    return \" \".join(tokens)\n"
   ]
  },
  {
   "cell_type": "code",
   "execution_count": null,
   "id": "6c61eccf",
   "metadata": {},
   "outputs": [],
   "source": [
    "# --- Cell 3: Apply Preprocessing ---\n",
    "tweet_df['tweet'] = tweet_df['tweet'].astype(str).apply(data_processing)\n",
    "\n",
    "# Drop duplicates\n",
    "tweet_df = tweet_df.drop_duplicates(subset='tweet').reset_index(drop=True)\n",
    "\n",
    "# Print cleaned tweets\n",
    "print(tweet_df.head(), \"\\n\")\n",
    "\n",
    "for i in range(5):\n",
    "    print(f\"{i}:\", tweet_df['tweet'].iloc[i], \"\\n\")\n"
   ]
  },
  {
   "cell_type": "code",
   "execution_count": null,
   "id": "fcf92f37",
   "metadata": {},
   "outputs": [],
   "source": [
    "# --- Cell 4: TF-IDF and Train-Test Split ---\n",
    "from sklearn.feature_extraction.text import TfidfVectorizer\n",
    "from sklearn.model_selection import train_test_split\n",
    "\n",
    "X = tweet_df['tweet']\n",
    "y = tweet_df['label']\n",
    "\n",
    "X_train, X_test, y_train, y_test = train_test_split(\n",
    "    X, y, test_size=0.2, random_state=42, stratify=y\n",
    ")\n",
    "\n",
    "tfidf = TfidfVectorizer(max_features=50000, ngram_range=(1,2), min_df=2)\n",
    "Xtr = tfidf.fit_transform(X_train)\n",
    "Xte = tfidf.transform(X_test)\n"
   ]
  },
  {
   "cell_type": "code",
   "execution_count": null,
   "id": "cc344975",
   "metadata": {},
   "outputs": [],
   "source": [
    "# --- Cell 5: Logistic Regression Training & Evaluation ---\n",
    "from sklearn.linear_model import LogisticRegression\n",
    "from sklearn.metrics import accuracy_score, classification_report, ConfusionMatrixDisplay\n",
    "import matplotlib.pyplot as plt\n",
    "\n",
    "clf = LogisticRegression(max_iter=300, solver='liblinear')\n",
    "clf.fit(Xtr, y_train)\n",
    "\n",
    "pred = clf.predict(Xte)\n",
    "\n",
    "print(\"Accuracy:\", accuracy_score(y_test, pred))\n",
    "print(classification_report(y_test, pred))\n",
    "\n",
    "ConfusionMatrixDisplay.from_predictions(y_test, pred)\n",
    "plt.show()\n"
   ]
  },
  {
   "cell_type": "code",
   "execution_count": null,
   "id": "2351d7ac",
   "metadata": {},
   "outputs": [],
   "source": [
    "# Your existing objects:\n",
    "# - data_processing  (the cleaner we wrote)\n",
    "# - tfidf            (fitted TfidfVectorizer)\n",
    "# - clf              (fitted LogisticRegression)\n",
    "\n",
    "def predict_tweet(text, threshold=0.5):\n",
    "    clean = data_processing(text)\n",
    "    X = tfidf.transform([clean])\n",
    "    prob1 = clf.predict_proba(X)[0, 1]\n",
    "    pred = int(prob1 >= threshold)  # 0 or 1\n",
    "    return {\"input\": text, \"cleaned\": clean, \"pred\": pred, \"prob_class1\": prob1}\n",
    "\n",
    "# Try it:\n",
    "print(predict_tweet(\"@user thanks for #lyft credit i can't use… #disappointed\"))\n"
   ]
  }
 ],
 "metadata": {
  "kernelspec": {
   "display_name": "Python 3 (ipykernel)",
   "language": "python",
   "name": "python3"
  },
  "language_info": {
   "codemirror_mode": {
    "name": "ipython",
    "version": 3
   },
   "file_extension": ".py",
   "mimetype": "text/x-python",
   "name": "python",
   "nbconvert_exporter": "python",
   "pygments_lexer": "ipython3",
   "version": "3.10.5"
  }
 },
 "nbformat": 4,
 "nbformat_minor": 5
}
